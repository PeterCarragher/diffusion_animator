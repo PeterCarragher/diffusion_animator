{
 "cells": [
  {
   "cell_type": "code",
   "execution_count": 14,
   "metadata": {},
   "outputs": [
    {
     "data": {
      "application/vnd.jupyter.widget-view+json": {
       "model_id": "0ae02f49779d4a13841aa18be3cc5fb1",
       "version_major": 2,
       "version_minor": 0
      },
      "text/plain": [
       "IntSlider(value=20, description='Time Steps:', min=1, style=SliderStyle(description_width='initial'))"
      ]
     },
     "metadata": {},
     "output_type": "display_data"
    },
    {
     "data": {
      "application/vnd.jupyter.widget-view+json": {
       "model_id": "eab9241bb59f4b8a856ad9052af2c972",
       "version_major": 2,
       "version_minor": 0
      },
      "text/plain": [
       "Textarea(value='def get_iterations(g, time_steps):\\n    model = ep.SIRModel(g)\\n    cfg = mc.Configuration()\\n…"
      ]
     },
     "metadata": {},
     "output_type": "display_data"
    },
    {
     "data": {
      "application/vnd.jupyter.widget-view+json": {
       "model_id": "2beb0d4a70624b56b3c893d0c1c98e4e",
       "version_major": 2,
       "version_minor": 0
      },
      "text/plain": [
       "Output()"
      ]
     },
     "metadata": {},
     "output_type": "display_data"
    }
   ],
   "source": [
    "import numpy as np\n",
    "import matplotlib.pyplot as plt\n",
    "import networkx as nx\n",
    "from matplotlib.animation import FuncAnimation\n",
    "from IPython.display import display, Image, clear_output\n",
    "import ipywidgets as widgets\n",
    "import os\n",
    "import networkx as nx\n",
    "import ndlib.models.ModelConfig as mc\n",
    "import ndlib.models.epidemics as ep\n",
    "from ndlib.viz.mpl.DiffusionTrend import DiffusionTrend\n",
    "import numpy as np\n",
    "import matplotlib.pyplot as plt\n",
    "import networkx as nx\n",
    "from matplotlib.lines import Line2D  # Import Line2D for custom legend markers\n",
    "\n",
    "if not os.path.exists('gifs'):\n",
    "    os.makedirs('gifs')\n",
    "\n",
    "code_input = widgets.Textarea(\n",
    "    value=\"\"\"def get_iterations(g, time_steps):\n",
    "    model = ep.SIRModel(g)\n",
    "    cfg = mc.Configuration()\n",
    "    cfg.add_model_parameter('beta', 0.5)\n",
    "    cfg.add_model_parameter('gamma', 0.1)\n",
    "    cfg.add_model_parameter(\"fraction_infected\", 0.2)\n",
    "    model.set_initial_status(cfg)\n",
    "    \n",
    "    iterations = model.iteration_bunch(time_steps)\n",
    "    return iterations, model\n",
    "\"\"\",\n",
    "    placeholder='Type your code here',\n",
    "    description='Code:',\n",
    "    layout=widgets.Layout(width='100%', height='300px'),\n",
    "    language='python'\n",
    ")\n",
    "\n",
    "output = widgets.Output()\n",
    "\n",
    "time_steps_slider = widgets.IntSlider(\n",
    "    value=20,\n",
    "    min=1,\n",
    "    max=100,\n",
    "    step=1,\n",
    "    description='Time Steps:',\n",
    "    style={'description_width': 'initial'}\n",
    ")\n",
    "\n",
    "total_nodes = 10\n",
    "g = nx.erdos_renyi_graph(total_nodes, 0.2)\n",
    "pos = nx.spring_layout(g)\n",
    "\n",
    "def create_legend(ax):\n",
    "    legend_elements = [\n",
    "        Line2D([0], [0], marker='o', color='w', markerfacecolor='green', markersize=10, label='Recovered'),\n",
    "        Line2D([0], [0], marker='o', color='w', markerfacecolor='red', markersize=10, label='Infected'),\n",
    "        Line2D([0], [0], marker='o', color='w', markerfacecolor='blue', markersize=10, label='Susceptible'),\n",
    "        Line2D([0], [0], marker='o', color='w', markerfacecolor='grey', markersize=10, label='Unknown'),\n",
    "    ]\n",
    "    ax.legend(handles=legend_elements, loc='upper right')\n",
    "\n",
    "def get_node_colors(status):\n",
    "    colors = []\n",
    "    for node in status.keys():\n",
    "        if status[node] == 0:\n",
    "            colors.append([0, 0, 1, 1])  # Susceptible - Blue\n",
    "        elif status[node] == 1:\n",
    "            colors.append([1, 0, 0, 1])  # Infected - Red\n",
    "        elif status[node] == 2:\n",
    "            colors.append([0, 1, 0, 1])  # Recovered - Green\n",
    "        else:\n",
    "            colors.append([0.5, 0.5, 0.5, 1])  # Unknown status - Grey\n",
    "    return colors\n",
    "\n",
    "def run_code(change):\n",
    "    with output:\n",
    "        try:\n",
    "            clear_output(wait=True)\n",
    "            local_vars = {}\n",
    "            exec(change['new'], globals(), local_vars)\n",
    "            get_iterations = local_vars['get_iterations']\n",
    "            iterations, model = get_iterations(g, time_steps_slider.value)\n",
    "            \n",
    "            \n",
    "            current_state = iterations[0]['status']\n",
    "            node_colors = []\n",
    "            node_colors.append(get_node_colors(current_state))\n",
    "            for iteration in iterations[1:]:\n",
    "                current_state.update(iteration['status'])\n",
    "                node_colors.append(get_node_colors(current_state))\n",
    "    \n",
    "            trends = model.build_trends(iterations)\n",
    "            viz = DiffusionTrend(model, trends)\n",
    "            viz.plot()\n",
    "            # plt.show()\n",
    "            \n",
    "            fig, ax = plt.subplots()\n",
    "            nodes = nx.draw_networkx_nodes(g, pos, node_color=node_colors[0], ax=ax)\n",
    "            edges = nx.draw_networkx_edges(g, pos, ax=ax)\n",
    "            plt.axis('off')\n",
    "            create_legend(ax)\n",
    "            timestep_text = None\n",
    "            def update(ii):\n",
    "                nonlocal timestep_text\n",
    "                if timestep_text:  # If the text object exists, remove it from the plot\n",
    "                    timestep_text.remove()\n",
    "                nodes.set_facecolor(node_colors[ii])\n",
    "                timestep_text = ax.text(0.05, 0.95, f'Timestep: {ii}', transform=ax.transAxes, fontsize=9, verticalalignment='top', bbox=dict(boxstyle=\"round\", facecolor='wheat', alpha=0.5))\n",
    "                return nodes,\n",
    "            \n",
    "            animation = FuncAnimation(fig, update, interval=50, frames=time_steps_slider.value, blit=True)\n",
    "            gif_path = 'gifs/test.gif'\n",
    "            animation.save(gif_path, writer='pillow', savefig_kwargs={'facecolor':'white'}, fps=3)\n",
    "            plt.close(fig)\n",
    "            \n",
    "            if os.path.exists(gif_path):\n",
    "                display(Image(gif_path))\n",
    "            else:\n",
    "                print(\"GIF was not created.\")\n",
    "\n",
    "            graph = nx.complete_graph(total_nodes)    \n",
    "            \n",
    "        except Exception as e:\n",
    "            print(\"Error executing code:\", e)\n",
    "            print(e.with_traceback())\n",
    "# if not hasattr(run_code, '_observer_set'):\n",
    "#     time_steps_slider.observe(run_code, names='value')\n",
    "#     run_code._observer_set = True\n",
    "code_input.observe(run_code, names='value')\n",
    "display(time_steps_slider)\n",
    "display(code_input)\n",
    "display(output)"
   ]
  }
 ],
 "metadata": {
  "kernelspec": {
   "display_name": "netanim",
   "language": "python",
   "name": "python3"
  },
  "language_info": {
   "codemirror_mode": {
    "name": "ipython",
    "version": 3
   },
   "file_extension": ".py",
   "mimetype": "text/x-python",
   "name": "python",
   "nbconvert_exporter": "python",
   "pygments_lexer": "ipython3",
   "version": "3.8.19"
  }
 },
 "nbformat": 4,
 "nbformat_minor": 2
}
